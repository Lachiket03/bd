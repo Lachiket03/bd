{
  "nbformat": 4,
  "nbformat_minor": 0,
  "metadata": {
    "colab": {
      "provenance": []
    },
    "kernelspec": {
      "name": "python3",
      "display_name": "Python 3"
    },
    "language_info": {
      "name": "python"
    }
  },
  "cells": [
    {
      "cell_type": "code",
      "execution_count": null,
      "metadata": {
        "colab": {
          "base_uri": "https://localhost:8080/"
        },
        "id": "Bezbvg-L6toj",
        "outputId": "f4753c5c-72ad-497e-f3ea-e960e70d50f5"
      },
      "outputs": [
        {
          "output_type": "stream",
          "name": "stdout",
          "text": [
            "     support              itemsets\n",
            "0   0.666667               (bread)\n",
            "1   0.333333                (eggs)\n",
            "2   0.666667                (milk)\n",
            "3   0.666667               (sugar)\n",
            "4   0.333333         (bread, eggs)\n",
            "5   0.500000         (bread, milk)\n",
            "6   0.333333        (bread, sugar)\n",
            "7   0.333333          (milk, eggs)\n",
            "8   0.500000         (sugar, milk)\n",
            "9   0.333333   (bread, milk, eggs)\n",
            "10  0.333333  (bread, sugar, milk)\n"
          ]
        }
      ],
      "source": [
        "import pandas as pd\n",
        "from mlxtend.preprocessing import TransactionEncoder\n",
        "from mlxtend.frequent_patterns import apriori\n",
        "\n",
        "# Sample transaction data\n",
        "transactions = [\n",
        "    ['bread', 'milk', 'eggs'],\n",
        "    ['milk', 'sugar'],\n",
        "    ['bread', 'milk', 'sugar'],\n",
        "    ['bread', 'butter'],\n",
        "    ['bread', 'milk', 'eggs', 'sugar'],\n",
        "    ['coffee', 'sugar']\n",
        "]\n",
        "\n",
        "# Encode the transactions\n",
        "te = TransactionEncoder()\n",
        "te_ary = te.fit(transactions).transform(transactions)\n",
        "df = pd.DataFrame(te_ary, columns=te.columns_)\n",
        "\n",
        "# Apply Apriori algorithm\n",
        "frequent_itemsets = apriori(df, min_support=0.3, use_colnames=True)\n",
        "\n",
        "# Print the frequent itemsets\n",
        "print(frequent_itemsets)"
      ]
    },
    {
      "cell_type": "code",
      "source": [
        "Input:\n",
        "- dataset: A collection of transactions\n",
        "- min_support: Minimum support threshold\n",
        "\n",
        "Output:\n",
        "- frequent_itemsets: Collection of frequent itemsets\n",
        "\n",
        "Procedure:\n",
        "1. Initialize frequent_itemsets as an empty set.\n",
        "\n",
        "2. Generate frequent 1-itemsets:\n",
        "   - Scan the dataset and count the occurrences of each item.\n",
        "   - Filter out the items that meet the minimum support threshold.\n",
        "   - Add the frequent 1-itemsets to frequent_itemsets.\n",
        "\n",
        "3. Repeat until no more frequent itemsets can be generated:\n",
        "   a. Generate candidate itemsets of size k (k > 1):\n",
        "      - Join the frequent (k-1)-itemsets to create candidate k-itemsets.\n",
        "      - Prune the candidate itemsets that contain infrequent (k-1)-subsets.\n",
        "\n",
        "   b. Scan the dataset and count the occurrences of each candidate itemset.\n",
        "\n",
        "   c. Filter out the candidate itemsets that meet the minimum support threshold.\n",
        "      - Add the frequent itemsets to frequent_itemsets.\n",
        "\n",
        "   d. Increment k by 1.\n",
        "\n",
        "4. Return frequent_itemsets.\n",
        "\n",
        "\\"
      ],
      "metadata": {
        "id": "RTQtrG55F9SC"
      },
      "execution_count": null,
      "outputs": []
    }
  ]
}