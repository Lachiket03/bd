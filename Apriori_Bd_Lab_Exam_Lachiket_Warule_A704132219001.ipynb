{
  "nbformat": 4,
  "nbformat_minor": 0,
  "metadata": {
    "colab": {
      "provenance": []
    },
    "kernelspec": {
      "name": "python3",
      "display_name": "Python 3"
    },
    "language_info": {
      "name": "python"
    }
  },
  "cells": [
    {
      "cell_type": "code",
      "execution_count": 1,
      "metadata": {
        "colab": {
          "base_uri": "https://localhost:8080/"
        },
        "id": "Bezbvg-L6toj",
        "outputId": "f4753c5c-72ad-497e-f3ea-e960e70d50f5"
      },
      "outputs": [
        {
          "output_type": "stream",
          "name": "stdout",
          "text": [
            "     support              itemsets\n",
            "0   0.666667               (bread)\n",
            "1   0.333333                (eggs)\n",
            "2   0.666667                (milk)\n",
            "3   0.666667               (sugar)\n",
            "4   0.333333         (bread, eggs)\n",
            "5   0.500000         (bread, milk)\n",
            "6   0.333333        (bread, sugar)\n",
            "7   0.333333          (milk, eggs)\n",
            "8   0.500000         (sugar, milk)\n",
            "9   0.333333   (bread, milk, eggs)\n",
            "10  0.333333  (bread, sugar, milk)\n"
          ]
        }
      ],
      "source": [
        "import pandas as pd\n",
        "from mlxtend.preprocessing import TransactionEncoder\n",
        "from mlxtend.frequent_patterns import apriori\n",
        "\n",
        "# Sample transaction data\n",
        "transactions = [\n",
        "    ['bread', 'milk', 'eggs'],\n",
        "    ['milk', 'sugar'],\n",
        "    ['bread', 'milk', 'sugar'],\n",
        "    ['bread', 'butter'],\n",
        "    ['bread', 'milk', 'eggs', 'sugar'],\n",
        "    ['coffee', 'sugar']\n",
        "]\n",
        "\n",
        "# Encode the transactions\n",
        "te = TransactionEncoder()\n",
        "te_ary = te.fit(transactions).transform(transactions)\n",
        "df = pd.DataFrame(te_ary, columns=te.columns_)\n",
        "\n",
        "# Apply Apriori algorithm\n",
        "frequent_itemsets = apriori(df, min_support=0.3, use_colnames=True)\n",
        "\n",
        "# Print the frequent itemsets\n",
        "print(frequent_itemsets)"
      ]
    }
  ]
}