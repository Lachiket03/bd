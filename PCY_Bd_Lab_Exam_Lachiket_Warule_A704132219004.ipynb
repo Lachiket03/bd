{
  "nbformat": 4,
  "nbformat_minor": 0,
  "metadata": {
    "colab": {
      "provenance": []
    },
    "kernelspec": {
      "name": "python3",
      "display_name": "Python 3"
    },
    "language_info": {
      "name": "python"
    }
  },
  "cells": [
    {
      "cell_type": "code",
      "source": [
        "# accessing google drive\n",
        "from google.colab import drive\n",
        "drive.mount('/content/drive/')\n",
        "%cd /content/drive/MyDrive/"
      ],
      "metadata": {
        "id": "0BxgtPh0ei-9",
        "colab": {
          "base_uri": "https://localhost:8080/"
        },
        "outputId": "0c61d4b8-6b73-478e-ccec-51e38e56ea4f"
      },
      "execution_count": null,
      "outputs": [
        {
          "output_type": "stream",
          "name": "stdout",
          "text": [
            "Mounted at /content/drive/\n",
            "/content/drive/MyDrive\n"
          ]
        }
      ]
    },
    {
      "cell_type": "code",
      "source": [
        "# Importing the libraries\n",
        "import numpy as np\n",
        "import matplotlib.pyplot as plt\n",
        "import pandas as pd"
      ],
      "metadata": {
        "id": "TnNAQ4Vqeu-h"
      },
      "execution_count": null,
      "outputs": []
    },
    {
      "cell_type": "code",
      "source": [
        "dataset = pd.read_csv('/content/Market_Basket_Optimisation.csv')\n",
        "dataset\n",
        "len(dataset)"
      ],
      "metadata": {
        "id": "3c1NyHqwexIt",
        "colab": {
          "base_uri": "https://localhost:8080/"
        },
        "outputId": "1cf02cd4-a2d7-4018-f5e7-6b18055cd61a"
      },
      "execution_count": null,
      "outputs": [
        {
          "output_type": "execute_result",
          "data": {
            "text/plain": [
              "7501"
            ]
          },
          "metadata": {},
          "execution_count": 4
        }
      ]
    },
    {
      "cell_type": "code",
      "source": [
        "#removing NaN values\n",
        "for k in range(1,21):\n",
        "  dataset[str(k)].fillna('', inplace = True)\n",
        "dataset"
      ],
      "metadata": {
        "id": "L05QU6zze3F5",
        "colab": {
          "base_uri": "https://localhost:8080/",
          "height": 1016
        },
        "outputId": "750a5215-4873-4a5d-b90d-259ec6281929"
      },
      "execution_count": null,
      "outputs": [
        {
          "output_type": "execute_result",
          "data": {
            "text/plain": [
              "                  1                  2            3                 4  \\\n",
              "0            shrimp            almonds      avocado    vegetables mix   \n",
              "1           burgers          meatballs         eggs                     \n",
              "2           chutney                                                     \n",
              "3            turkey            avocado                                  \n",
              "4     mineral water               milk   energy bar  whole wheat rice   \n",
              "...             ...                ...          ...               ...   \n",
              "7496         butter         light mayo  fresh bread                     \n",
              "7497        burgers  frozen vegetables         eggs      french fries   \n",
              "7498        chicken                                                     \n",
              "7499       escalope          green tea                                  \n",
              "7500           eggs    frozen smoothie  yogurt cake    low fat yogurt   \n",
              "\n",
              "                 5                 6     7               8             9  \\\n",
              "0     green grapes  whole weat flour  yams  cottage cheese  energy drink   \n",
              "1                                                                          \n",
              "2                                                                          \n",
              "3                                                                          \n",
              "4        green tea                                                         \n",
              "...            ...               ...   ...             ...           ...   \n",
              "7496                                                                       \n",
              "7497     magazines         green tea                                       \n",
              "7498                                                                       \n",
              "7499                                                                       \n",
              "7500                                                                       \n",
              "\n",
              "                10              11         12     13     14             15  \\\n",
              "0     tomato juice  low fat yogurt  green tea  honey  salad  mineral water   \n",
              "1                                                                            \n",
              "2                                                                            \n",
              "3                                                                            \n",
              "4                                                                            \n",
              "...            ...             ...        ...    ...    ...            ...   \n",
              "7496                                                                         \n",
              "7497                                                                         \n",
              "7498                                                                         \n",
              "7499                                                                         \n",
              "7500                                                                         \n",
              "\n",
              "          16                 17               18       19         20  \n",
              "0     salmon  antioxydant juice  frozen smoothie  spinach  olive oil  \n",
              "1                                                                     \n",
              "2                                                                     \n",
              "3                                                                     \n",
              "4                                                                     \n",
              "...      ...                ...              ...      ...        ...  \n",
              "7496                                                                  \n",
              "7497                                                                  \n",
              "7498                                                                  \n",
              "7499                                                                  \n",
              "7500                                                                  \n",
              "\n",
              "[7501 rows x 20 columns]"
            ],
            "text/html": [
              "\n",
              "  <div id=\"df-326cbe9f-ba48-4105-9121-ab6c2a003e75\">\n",
              "    <div class=\"colab-df-container\">\n",
              "      <div>\n",
              "<style scoped>\n",
              "    .dataframe tbody tr th:only-of-type {\n",
              "        vertical-align: middle;\n",
              "    }\n",
              "\n",
              "    .dataframe tbody tr th {\n",
              "        vertical-align: top;\n",
              "    }\n",
              "\n",
              "    .dataframe thead th {\n",
              "        text-align: right;\n",
              "    }\n",
              "</style>\n",
              "<table border=\"1\" class=\"dataframe\">\n",
              "  <thead>\n",
              "    <tr style=\"text-align: right;\">\n",
              "      <th></th>\n",
              "      <th>1</th>\n",
              "      <th>2</th>\n",
              "      <th>3</th>\n",
              "      <th>4</th>\n",
              "      <th>5</th>\n",
              "      <th>6</th>\n",
              "      <th>7</th>\n",
              "      <th>8</th>\n",
              "      <th>9</th>\n",
              "      <th>10</th>\n",
              "      <th>11</th>\n",
              "      <th>12</th>\n",
              "      <th>13</th>\n",
              "      <th>14</th>\n",
              "      <th>15</th>\n",
              "      <th>16</th>\n",
              "      <th>17</th>\n",
              "      <th>18</th>\n",
              "      <th>19</th>\n",
              "      <th>20</th>\n",
              "    </tr>\n",
              "  </thead>\n",
              "  <tbody>\n",
              "    <tr>\n",
              "      <th>0</th>\n",
              "      <td>shrimp</td>\n",
              "      <td>almonds</td>\n",
              "      <td>avocado</td>\n",
              "      <td>vegetables mix</td>\n",
              "      <td>green grapes</td>\n",
              "      <td>whole weat flour</td>\n",
              "      <td>yams</td>\n",
              "      <td>cottage cheese</td>\n",
              "      <td>energy drink</td>\n",
              "      <td>tomato juice</td>\n",
              "      <td>low fat yogurt</td>\n",
              "      <td>green tea</td>\n",
              "      <td>honey</td>\n",
              "      <td>salad</td>\n",
              "      <td>mineral water</td>\n",
              "      <td>salmon</td>\n",
              "      <td>antioxydant juice</td>\n",
              "      <td>frozen smoothie</td>\n",
              "      <td>spinach</td>\n",
              "      <td>olive oil</td>\n",
              "    </tr>\n",
              "    <tr>\n",
              "      <th>1</th>\n",
              "      <td>burgers</td>\n",
              "      <td>meatballs</td>\n",
              "      <td>eggs</td>\n",
              "      <td></td>\n",
              "      <td></td>\n",
              "      <td></td>\n",
              "      <td></td>\n",
              "      <td></td>\n",
              "      <td></td>\n",
              "      <td></td>\n",
              "      <td></td>\n",
              "      <td></td>\n",
              "      <td></td>\n",
              "      <td></td>\n",
              "      <td></td>\n",
              "      <td></td>\n",
              "      <td></td>\n",
              "      <td></td>\n",
              "      <td></td>\n",
              "      <td></td>\n",
              "    </tr>\n",
              "    <tr>\n",
              "      <th>2</th>\n",
              "      <td>chutney</td>\n",
              "      <td></td>\n",
              "      <td></td>\n",
              "      <td></td>\n",
              "      <td></td>\n",
              "      <td></td>\n",
              "      <td></td>\n",
              "      <td></td>\n",
              "      <td></td>\n",
              "      <td></td>\n",
              "      <td></td>\n",
              "      <td></td>\n",
              "      <td></td>\n",
              "      <td></td>\n",
              "      <td></td>\n",
              "      <td></td>\n",
              "      <td></td>\n",
              "      <td></td>\n",
              "      <td></td>\n",
              "      <td></td>\n",
              "    </tr>\n",
              "    <tr>\n",
              "      <th>3</th>\n",
              "      <td>turkey</td>\n",
              "      <td>avocado</td>\n",
              "      <td></td>\n",
              "      <td></td>\n",
              "      <td></td>\n",
              "      <td></td>\n",
              "      <td></td>\n",
              "      <td></td>\n",
              "      <td></td>\n",
              "      <td></td>\n",
              "      <td></td>\n",
              "      <td></td>\n",
              "      <td></td>\n",
              "      <td></td>\n",
              "      <td></td>\n",
              "      <td></td>\n",
              "      <td></td>\n",
              "      <td></td>\n",
              "      <td></td>\n",
              "      <td></td>\n",
              "    </tr>\n",
              "    <tr>\n",
              "      <th>4</th>\n",
              "      <td>mineral water</td>\n",
              "      <td>milk</td>\n",
              "      <td>energy bar</td>\n",
              "      <td>whole wheat rice</td>\n",
              "      <td>green tea</td>\n",
              "      <td></td>\n",
              "      <td></td>\n",
              "      <td></td>\n",
              "      <td></td>\n",
              "      <td></td>\n",
              "      <td></td>\n",
              "      <td></td>\n",
              "      <td></td>\n",
              "      <td></td>\n",
              "      <td></td>\n",
              "      <td></td>\n",
              "      <td></td>\n",
              "      <td></td>\n",
              "      <td></td>\n",
              "      <td></td>\n",
              "    </tr>\n",
              "    <tr>\n",
              "      <th>...</th>\n",
              "      <td>...</td>\n",
              "      <td>...</td>\n",
              "      <td>...</td>\n",
              "      <td>...</td>\n",
              "      <td>...</td>\n",
              "      <td>...</td>\n",
              "      <td>...</td>\n",
              "      <td>...</td>\n",
              "      <td>...</td>\n",
              "      <td>...</td>\n",
              "      <td>...</td>\n",
              "      <td>...</td>\n",
              "      <td>...</td>\n",
              "      <td>...</td>\n",
              "      <td>...</td>\n",
              "      <td>...</td>\n",
              "      <td>...</td>\n",
              "      <td>...</td>\n",
              "      <td>...</td>\n",
              "      <td>...</td>\n",
              "    </tr>\n",
              "    <tr>\n",
              "      <th>7496</th>\n",
              "      <td>butter</td>\n",
              "      <td>light mayo</td>\n",
              "      <td>fresh bread</td>\n",
              "      <td></td>\n",
              "      <td></td>\n",
              "      <td></td>\n",
              "      <td></td>\n",
              "      <td></td>\n",
              "      <td></td>\n",
              "      <td></td>\n",
              "      <td></td>\n",
              "      <td></td>\n",
              "      <td></td>\n",
              "      <td></td>\n",
              "      <td></td>\n",
              "      <td></td>\n",
              "      <td></td>\n",
              "      <td></td>\n",
              "      <td></td>\n",
              "      <td></td>\n",
              "    </tr>\n",
              "    <tr>\n",
              "      <th>7497</th>\n",
              "      <td>burgers</td>\n",
              "      <td>frozen vegetables</td>\n",
              "      <td>eggs</td>\n",
              "      <td>french fries</td>\n",
              "      <td>magazines</td>\n",
              "      <td>green tea</td>\n",
              "      <td></td>\n",
              "      <td></td>\n",
              "      <td></td>\n",
              "      <td></td>\n",
              "      <td></td>\n",
              "      <td></td>\n",
              "      <td></td>\n",
              "      <td></td>\n",
              "      <td></td>\n",
              "      <td></td>\n",
              "      <td></td>\n",
              "      <td></td>\n",
              "      <td></td>\n",
              "      <td></td>\n",
              "    </tr>\n",
              "    <tr>\n",
              "      <th>7498</th>\n",
              "      <td>chicken</td>\n",
              "      <td></td>\n",
              "      <td></td>\n",
              "      <td></td>\n",
              "      <td></td>\n",
              "      <td></td>\n",
              "      <td></td>\n",
              "      <td></td>\n",
              "      <td></td>\n",
              "      <td></td>\n",
              "      <td></td>\n",
              "      <td></td>\n",
              "      <td></td>\n",
              "      <td></td>\n",
              "      <td></td>\n",
              "      <td></td>\n",
              "      <td></td>\n",
              "      <td></td>\n",
              "      <td></td>\n",
              "      <td></td>\n",
              "    </tr>\n",
              "    <tr>\n",
              "      <th>7499</th>\n",
              "      <td>escalope</td>\n",
              "      <td>green tea</td>\n",
              "      <td></td>\n",
              "      <td></td>\n",
              "      <td></td>\n",
              "      <td></td>\n",
              "      <td></td>\n",
              "      <td></td>\n",
              "      <td></td>\n",
              "      <td></td>\n",
              "      <td></td>\n",
              "      <td></td>\n",
              "      <td></td>\n",
              "      <td></td>\n",
              "      <td></td>\n",
              "      <td></td>\n",
              "      <td></td>\n",
              "      <td></td>\n",
              "      <td></td>\n",
              "      <td></td>\n",
              "    </tr>\n",
              "    <tr>\n",
              "      <th>7500</th>\n",
              "      <td>eggs</td>\n",
              "      <td>frozen smoothie</td>\n",
              "      <td>yogurt cake</td>\n",
              "      <td>low fat yogurt</td>\n",
              "      <td></td>\n",
              "      <td></td>\n",
              "      <td></td>\n",
              "      <td></td>\n",
              "      <td></td>\n",
              "      <td></td>\n",
              "      <td></td>\n",
              "      <td></td>\n",
              "      <td></td>\n",
              "      <td></td>\n",
              "      <td></td>\n",
              "      <td></td>\n",
              "      <td></td>\n",
              "      <td></td>\n",
              "      <td></td>\n",
              "      <td></td>\n",
              "    </tr>\n",
              "  </tbody>\n",
              "</table>\n",
              "<p>7501 rows × 20 columns</p>\n",
              "</div>\n",
              "      <button class=\"colab-df-convert\" onclick=\"convertToInteractive('df-326cbe9f-ba48-4105-9121-ab6c2a003e75')\"\n",
              "              title=\"Convert this dataframe to an interactive table.\"\n",
              "              style=\"display:none;\">\n",
              "        \n",
              "  <svg xmlns=\"http://www.w3.org/2000/svg\" height=\"24px\"viewBox=\"0 0 24 24\"\n",
              "       width=\"24px\">\n",
              "    <path d=\"M0 0h24v24H0V0z\" fill=\"none\"/>\n",
              "    <path d=\"M18.56 5.44l.94 2.06.94-2.06 2.06-.94-2.06-.94-.94-2.06-.94 2.06-2.06.94zm-11 1L8.5 8.5l.94-2.06 2.06-.94-2.06-.94L8.5 2.5l-.94 2.06-2.06.94zm10 10l.94 2.06.94-2.06 2.06-.94-2.06-.94-.94-2.06-.94 2.06-2.06.94z\"/><path d=\"M17.41 7.96l-1.37-1.37c-.4-.4-.92-.59-1.43-.59-.52 0-1.04.2-1.43.59L10.3 9.45l-7.72 7.72c-.78.78-.78 2.05 0 2.83L4 21.41c.39.39.9.59 1.41.59.51 0 1.02-.2 1.41-.59l7.78-7.78 2.81-2.81c.8-.78.8-2.07 0-2.86zM5.41 20L4 18.59l7.72-7.72 1.47 1.35L5.41 20z\"/>\n",
              "  </svg>\n",
              "      </button>\n",
              "      \n",
              "  <style>\n",
              "    .colab-df-container {\n",
              "      display:flex;\n",
              "      flex-wrap:wrap;\n",
              "      gap: 12px;\n",
              "    }\n",
              "\n",
              "    .colab-df-convert {\n",
              "      background-color: #E8F0FE;\n",
              "      border: none;\n",
              "      border-radius: 50%;\n",
              "      cursor: pointer;\n",
              "      display: none;\n",
              "      fill: #1967D2;\n",
              "      height: 32px;\n",
              "      padding: 0 0 0 0;\n",
              "      width: 32px;\n",
              "    }\n",
              "\n",
              "    .colab-df-convert:hover {\n",
              "      background-color: #E2EBFA;\n",
              "      box-shadow: 0px 1px 2px rgba(60, 64, 67, 0.3), 0px 1px 3px 1px rgba(60, 64, 67, 0.15);\n",
              "      fill: #174EA6;\n",
              "    }\n",
              "\n",
              "    [theme=dark] .colab-df-convert {\n",
              "      background-color: #3B4455;\n",
              "      fill: #D2E3FC;\n",
              "    }\n",
              "\n",
              "    [theme=dark] .colab-df-convert:hover {\n",
              "      background-color: #434B5C;\n",
              "      box-shadow: 0px 1px 3px 1px rgba(0, 0, 0, 0.15);\n",
              "      filter: drop-shadow(0px 1px 2px rgba(0, 0, 0, 0.3));\n",
              "      fill: #FFFFFF;\n",
              "    }\n",
              "  </style>\n",
              "\n",
              "      <script>\n",
              "        const buttonEl =\n",
              "          document.querySelector('#df-326cbe9f-ba48-4105-9121-ab6c2a003e75 button.colab-df-convert');\n",
              "        buttonEl.style.display =\n",
              "          google.colab.kernel.accessAllowed ? 'block' : 'none';\n",
              "\n",
              "        async function convertToInteractive(key) {\n",
              "          const element = document.querySelector('#df-326cbe9f-ba48-4105-9121-ab6c2a003e75');\n",
              "          const dataTable =\n",
              "            await google.colab.kernel.invokeFunction('convertToInteractive',\n",
              "                                                     [key], {});\n",
              "          if (!dataTable) return;\n",
              "\n",
              "          const docLinkHtml = 'Like what you see? Visit the ' +\n",
              "            '<a target=\"_blank\" href=https://colab.research.google.com/notebooks/data_table.ipynb>data table notebook</a>'\n",
              "            + ' to learn more about interactive tables.';\n",
              "          element.innerHTML = '';\n",
              "          dataTable['output_type'] = 'display_data';\n",
              "          await google.colab.output.renderOutput(dataTable, element);\n",
              "          const docLink = document.createElement('div');\n",
              "          docLink.innerHTML = docLinkHtml;\n",
              "          element.appendChild(docLink);\n",
              "        }\n",
              "      </script>\n",
              "    </div>\n",
              "  </div>\n",
              "  "
            ]
          },
          "metadata": {},
          "execution_count": 5
        },
        {
          "output_type": "stream",
          "name": "stdout",
          "text": [
            "Error: Runtime no longer has a reference to this dataframe, please re-run this cell and try again.\n"
          ]
        }
      ]
    },
    {
      "cell_type": "code",
      "source": [
        "#getting names of all the items from the dataset\n",
        "column_names = []\n",
        "\n",
        "for i in range(len(dataset)):#rows\n",
        "  for k in range(1,20):#columns\n",
        "    flag = 0\n",
        "    for j in range(len(column_names)):\n",
        "      if dataset[str(k)][i] == column_names[j]:\n",
        "        flag = 1\n",
        "        break\n",
        "    if flag == 0:\n",
        "      column_names.append(dataset[str(k)][i])"
      ],
      "metadata": {
        "id": "3eth3mQTfBC6"
      },
      "execution_count": null,
      "outputs": []
    },
    {
      "cell_type": "code",
      "source": [
        "print(column_names)\n",
        "print(len(column_names))"
      ],
      "metadata": {
        "id": "2CM2FKRgfB3x",
        "colab": {
          "base_uri": "https://localhost:8080/"
        },
        "outputId": "c23c31f8-2f0d-4259-afe9-7ca6580602ad"
      },
      "execution_count": null,
      "outputs": [
        {
          "output_type": "stream",
          "name": "stdout",
          "text": [
            "['shrimp', 'almonds', 'avocado', 'vegetables mix', 'green grapes', 'whole weat flour', 'yams', 'cottage cheese', 'energy drink', 'tomato juice', 'low fat yogurt', 'green tea', 'honey', 'salad', 'mineral water', 'salmon', 'antioxydant juice', 'frozen smoothie', 'spinach', 'burgers', 'meatballs', 'eggs', '', 'chutney', 'turkey', 'milk', 'energy bar', 'whole wheat rice', 'whole wheat pasta', 'french fries', 'soup', 'light cream', 'shallot', 'frozen vegetables', 'spaghetti', 'pet food', 'cookies', 'cooking oil', 'champagne', 'chocolate', 'chicken', 'oil', 'fresh tuna', 'tomatoes', 'black tea', 'extra dark chocolate', 'protein bar', 'red wine', 'pasta', 'pepper', 'shampoo', 'rice', 'sparkling water', 'ham', 'body spray', 'pancakes', 'grated cheese', 'white wine', 'toothpaste', 'parmesan cheese', 'fresh bread', 'ground beef', 'escalope', 'herb & pepper', 'tomato sauce', 'magazines', 'strawberries', 'strong cheese', 'pickles', 'cake', 'hot dogs', 'brownies', 'cereals', 'clothes accessories', 'bug spray', 'muffins', 'light mayo', 'olive oil', 'gums', 'soda', 'cider', 'corn', 'yogurt cake', 'mint', 'butter', 'asparagus', 'french wine', 'salt', 'tea', 'barbecue sauce', 'mayonnaise', 'zucchini', 'carrots', 'mushroom cream sauce', 'candy bars', 'chili', 'mashed potato', 'nonfat milk', 'water spray', 'chocolate bread', 'mint green tea', 'eggplant', 'blueberries', 'bacon', 'fromage blanc', 'gluten free bar', 'dessert wine', 'flax seed', 'hand protein bar', 'sandwich', 'babies food', 'melons', 'cauliflower', 'green beans', 'ketchup', 'bramble', 'burger sauce', 'oatmeal', 'cream', 'napkins']\n",
            "120\n"
          ]
        }
      ]
    },
    {
      "cell_type": "code",
      "source": [
        "dataset1 = pd.read_csv('/content/Test_Demo.csv')\n",
        "dataset1\n",
        "len(dataset1)"
      ],
      "metadata": {
        "id": "3kh5qJ5mgE9-",
        "colab": {
          "base_uri": "https://localhost:8080/"
        },
        "outputId": "2e5cc425-62c5-473b-87a6-6159477e1816"
      },
      "execution_count": null,
      "outputs": [
        {
          "output_type": "execute_result",
          "data": {
            "text/plain": [
              "7500"
            ]
          },
          "metadata": {},
          "execution_count": 8
        }
      ]
    },
    {
      "cell_type": "code",
      "source": [
        "#keeping zero as default value for each item\n",
        "for i in range(len(column_names)):\n",
        "  dataset1[column_names[i]]=0\n",
        "dataset1\n",
        "len(dataset1)"
      ],
      "metadata": {
        "id": "a8w_rz_6v-r8"
      },
      "execution_count": null,
      "outputs": []
    },
    {
      "cell_type": "code",
      "source": [
        "#modifying new dataset as per the values in old database\n",
        "for i in range(len(dataset)):\n",
        "  for k in range(1,21):\n",
        "    if dataset[str(k)][i]!= '' and column_names.index(dataset[str(k)][i])>=0:\n",
        "      dataset1[dataset[str(k)][i]][i] = 1"
      ],
      "metadata": {
        "id": "GrgAYZ9lwIhX"
      },
      "execution_count": null,
      "outputs": []
    },
    {
      "cell_type": "code",
      "source": [
        "del(column_names[22]) # because its blank"
      ],
      "metadata": {
        "id": "R9wBKy_CwL03"
      },
      "execution_count": null,
      "outputs": []
    },
    {
      "cell_type": "code",
      "source": [
        "#enable view for 7500 rows\n",
        "pd.set_option('display.max_rows', 7500)\n",
        "dataset1"
      ],
      "metadata": {
        "id": "_wGvp-9jwOlH"
      },
      "execution_count": null,
      "outputs": []
    },
    {
      "cell_type": "code",
      "source": [
        "#getting total count of each element in the order of column name in new dataset\n",
        "# step one of PCY algorithm ... count of each candidate set\n",
        "count_data = []\n",
        "for i in range(len(column_names)):\n",
        "  print(dataset1[column_names[i]].sum())\n",
        "  count_data.append(dataset1[column_names[i]].sum())"
      ],
      "metadata": {
        "id": "Xt280x6kwRHU"
      },
      "execution_count": null,
      "outputs": []
    },
    {
      "cell_type": "code",
      "source": [
        "#step 2 of pcy algo .. eleminating products below threshold value ... in this case it is 375\n",
        "shortlisted = []\n",
        "for i in range(len(column_names)):\n",
        "  if dataset1[column_names[i]].sum()>=375:\n",
        "    shortlisted.append(column_names[i])\n",
        "shortlisted"
      ],
      "metadata": {
        "id": "ErB3uNFjwUEg"
      },
      "execution_count": null,
      "outputs": []
    },
    {
      "cell_type": "code",
      "source": [
        "#preparing for step 3 by making pairs of selected items\n",
        "pairs = []\n",
        "j = -1\n",
        "for i in range(len(column_names)):\n",
        "  j += 1\n",
        "  for k in range(i,len(column_names)):\n",
        "    current_pair = []\n",
        "    if column_names[i] !=column_names[k]:\n",
        "      current_pair = [column_names[i] ,column_names[k]]\n",
        "      pairs.append(current_pair)\n",
        "pairs"
      ],
      "metadata": {
        "id": "XF5Qpiz2wT0i"
      },
      "execution_count": null,
      "outputs": []
    },
    {
      "cell_type": "code",
      "source": [
        "# step 3 counting frequency of each pair\n",
        "repeatition = []\n",
        "for i in range(len(pairs)):\n",
        "  count = 0\n",
        "  for j in range(len(dataset1)):\n",
        "    if dataset1[pairs[i][0]][j] == 1 and dataset1[pairs[i][1]][j] == 1:\n",
        "      count += 1\n",
        "  repeatition.append(count)"
      ],
      "metadata": {
        "id": "iLTeitlAwhV8"
      },
      "execution_count": null,
      "outputs": []
    },
    {
      "cell_type": "code",
      "source": [
        "for i in range(len(pairs)):\n",
        "\tprint(pairs[i],repeatition[i])\n",
        "len(pairs)"
      ],
      "metadata": {
        "id": "iK_5_plPwpTB"
      },
      "execution_count": null,
      "outputs": []
    },
    {
      "cell_type": "code",
      "source": [
        "#step 4 setting threshold of 30 for each itemset\n",
        "threshold = 30\n",
        "frequent_items = []\n",
        "for i in range(len(pairs)):\n",
        "  if repeatition[i]>=30:\n",
        "    frequent_items.append(pairs[i])\n",
        "frequent_items\n",
        "len(frequent_items)"
      ],
      "metadata": {
        "id": "3-ojBFAQwuQ8"
      },
      "execution_count": null,
      "outputs": []
    },
    {
      "cell_type": "code",
      "source": [
        "#step 5 assigning  buckets to itemsets using hash function (x*y)%10\n",
        "buckets = [[],[],[],[],[],[],[],[],[],[]]\n",
        "for i in range(len(frequent_items)):\n",
        "  x = column_names.index(frequent_items[i][0])+1\n",
        "  y = column_names.index(frequent_items[i][1])+1\n",
        "  hash_val  = (x*y) % 10\n",
        "  buckets[hash_val].append(frequent_items[i])\n",
        "  print(hash_val)\n",
        "buckets\n",
        "# printing one of the bucket\n",
        "buckets[0]"
      ],
      "metadata": {
        "id": "meRJEe-twxyv"
      },
      "execution_count": null,
      "outputs": []
    },
    {
      "cell_type": "code",
      "source": [
        "# give input and this returns frequent itemsets\n",
        "item = input()\n",
        "for i in range(len(frequent_items)):\n",
        "  if frequent_items[i][0] == item:\n",
        "    print(frequent_items[i][1])\n",
        "  if frequent_items[i][1] == item:\n",
        "    print(frequent_items[i][0])"
      ],
      "metadata": {
        "id": "bannt4UCw5DH"
      },
      "execution_count": null,
      "outputs": []
    },
    {
      "cell_type": "code",
      "source": [
        "# for visualizations\n",
        "import matplotlib.pyplot as plt\n",
        "import seaborn as sns\n",
        "\n",
        "plt.style.use('fivethirtyeight')"
      ],
      "metadata": {
        "id": "jZCZT8fEw7vk"
      },
      "execution_count": null,
      "outputs": []
    },
    {
      "cell_type": "code",
      "source": [
        "text = ' '\n",
        "for i in range(len(count_data)):\n",
        "  for j in range(count_data[i]):\n",
        "    text = text + ' ' + column_names[i]\n",
        "print(text)"
      ],
      "metadata": {
        "id": "Yel-y0XOxBhY"
      },
      "execution_count": null,
      "outputs": []
    },
    {
      "cell_type": "code",
      "source": [
        "from wordcloud import WordCloud\n",
        "\n",
        "plt.rcParams['figure.figsize'] = (15, 10)\n",
        "# Create and generate a word cloud image:\n",
        "wordcloud = WordCloud(collocations=False, background_color = 'white', width = 1200,  height = 1200, max_words = 119).generate(text)\n",
        "# Display the generated image:\n",
        "plt.imshow(wordcloud, interpolation='bilinear')\n",
        "plt.axis(\"off\")\n",
        "plt.title('Most Popular Items',fontsize = 20)\n",
        "plt.show()"
      ],
      "metadata": {
        "id": "99Ek4iLgxB0-"
      },
      "execution_count": null,
      "outputs": []
    },
    {
      "cell_type": "code",
      "source": [
        "corpus = []\n",
        "for i in range(len(count_data)):\n",
        "  for j in range(count_data[i]):\n",
        "    corpus.append(column_names[i])\n",
        "df = pd.DataFrame({'corpus': corpus})"
      ],
      "metadata": {
        "id": "XttAx6I_xHxZ"
      },
      "execution_count": null,
      "outputs": []
    },
    {
      "cell_type": "code",
      "execution_count": null,
      "metadata": {
        "id": "xoi1wrdI4sWG"
      },
      "outputs": [],
      "source": [
        "plt.rcParams['figure.figsize'] = (30, 7)\n",
        "color = plt.cm.copper(np.linspace(0, 1, 119))\n",
        "df['corpus'].value_counts().plot.bar(color = color)\n",
        "plt.title('frequency of most popular items', fontsize = 30)\n",
        "plt.xticks(rotation = 90 )\n",
        "plt.grid()\n",
        "plt.show()"
      ]
    },
    {
      "cell_type": "code",
      "source": [
        "function PCYAlgorithm(transactions, min_support, bucket_size):\n",
        "    # Phase 1: Counting frequent pairs using a hash table\n",
        "    pair_counts = {}  # Hash table to store pair counts\n",
        "    bucket_table = [0] * bucket_size  # Buckets to store the pair hash values\n",
        "\n",
        "    for transaction in transactions:\n",
        "        items = get_items(transaction)\n",
        "        for i in range(length(items)):\n",
        "            for j in range(i+1, length(items)):\n",
        "                item1 = items[i]\n",
        "                item2 = items[j]\n",
        "                pair = (item1, item2)\n",
        "\n",
        "                # Calculate hash value for the pair\n",
        "                hash_value = hash(pair) % bucket_size\n",
        "\n",
        "                # Increment count in the bucket table\n",
        "                bucket_table[hash_value] += 1\n",
        "\n",
        "                # Increment count in the pair counts hash table\n",
        "                pair_counts[pair] = pair_counts.get(pair, 0) + 1\n",
        "\n",
        "    # Phase 2: Generating frequent itemsets using pair counts\n",
        "    frequent_itemsets = []\n",
        "\n",
        "    for pair, count in pair_counts.items():\n",
        "        if count >= min_support:\n",
        "            frequent_itemsets.append(pair)\n",
        "\n",
        "    return frequent_itemsets"
      ],
      "metadata": {
        "id": "suSxbV4vGHTi"
      },
      "execution_count": null,
      "outputs": []
    }
  ]
}