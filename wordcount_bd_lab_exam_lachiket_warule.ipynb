{
  "nbformat": 4,
  "nbformat_minor": 0,
  "metadata": {
    "colab": {
      "provenance": []
    },
    "kernelspec": {
      "name": "python3",
      "display_name": "Python 3"
    },
    "language_info": {
      "name": "python"
    }
  },
  "cells": [
    {
      "cell_type": "code",
      "execution_count": null,
      "metadata": {
        "id": "qXMQcnv9AXQ2"
      },
      "outputs": [],
      "source": [
        "#!/usr/bin/env python\n",
        "\n",
        "# import sys because we need to read and write data to STDIN and STDOUT\n",
        "import sys\n",
        "\n",
        "# reading entire line from STDIN (standard input)\n",
        "for line in sys.stdin:\n",
        "\t# to remove leading and trailing whitespace\n",
        "\tline = line.strip()\n",
        "\t# split the line into words\n",
        "\twords = line.split()\n",
        "\n",
        "\t# we are looping over the words array and printing the word\n",
        "\t# with the count of 1 to the STDOUT\n",
        "\tfor word in words:\n",
        "\t\t# write the results to STDOUT (standard output);\n",
        "\t\t# what we output here will be the input for the\n",
        "\t\t# Reduce step, i.e. the input for reducer.py\n",
        "\t\tprint ('%s\\t%s' % (word, 1))\n",
        "\n",
        "\n",
        "\n"
      ]
    },
    {
      "cell_type": "code",
      "source": [
        "Reducer_wc.py\n",
        "\n",
        "#!/usr/bin/env python\n",
        "\n",
        "from operator import itemgetter\n",
        "import sys\n",
        "\n",
        "current_word = None\n",
        "current_count = 0\n",
        "word = None\n",
        "\n",
        "# read the entire line from STDIN\n",
        "for line in sys.stdin:\n",
        "\t# remove leading and trailing whitespace\n",
        "\tline = line.strip()\n",
        "\t# splitting the data on the basis of tab we have provided in mapper.py\n",
        "\tword, count = line.split('\\t', 1)\n",
        "\t# convert count (currently a string) to int\n",
        "\ttry:\n",
        "\t\tcount = int(count)\n",
        "\texcept ValueError:\n",
        "\t\t# count was not a number, so silently\n",
        "\t\t# ignore/discard this line\n",
        "\t\tcontinue\n",
        "\n",
        "\t# this IF-switch only works because Hadoop sorts map output\n",
        "\t# by key (here: word) before it is passed to the reducer\n",
        "\tif current_word == word:\n",
        "\t\tcurrent_count += count\n",
        "\telse:\n",
        "\t\tif current_word:\n",
        "\t\t\t# write result to STDOUT\n",
        "\t\t\tprint '%s\\t%s' % (current_word, current_count)\n",
        "\t\tcurrent_count = count\n",
        "\t\tcurrent_word = word\n",
        "\n",
        "# do not forget to output the last word if needed!\n",
        "if current_word == word:\n",
        "\tprint ('%s\\t%s' % (current_word, current_count))"
      ],
      "metadata": {
        "id": "How8iVYtAkpZ"
      },
      "execution_count": null,
      "outputs": []
    },
    {
      "cell_type": "code",
      "source": [
        "cat word_count_data.txt | python mapper_sk.py –\n",
        "cat word_count_data.txt | python mapper_sk.py | sort -k1, 1 –\n",
        "cat word_count_data.txt | python mapper_sk.py | sort -k1, 1 | python reducer_sk.py –\n",
        "cat word_count_data.txt | python mapper_sk.py | sort -k1, 1 | python reducer_sk.py"
      ],
      "metadata": {
        "id": "Srp7V3HnAktM"
      },
      "execution_count": null,
      "outputs": []
    }
  ]
}